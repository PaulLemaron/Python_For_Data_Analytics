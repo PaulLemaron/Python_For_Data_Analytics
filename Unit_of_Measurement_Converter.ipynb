{
  "nbformat": 4,
  "nbformat_minor": 0,
  "metadata": {
    "colab": {
      "provenance": [],
      "authorship_tag": "ABX9TyNjV0UmLoAmnDLsDCYqgozX",
      "include_colab_link": true
    },
    "kernelspec": {
      "name": "python3",
      "display_name": "Python 3"
    },
    "language_info": {
      "name": "python"
    }
  },
  "cells": [
    {
      "cell_type": "markdown",
      "metadata": {
        "id": "view-in-github",
        "colab_type": "text"
      },
      "source": [
        "<a href=\"https://colab.research.google.com/github/PaulLemaron/Python_For_Data_Analytics/blob/main/Unit_of_Measurement_Converter.ipynb\" target=\"_parent\"><img src=\"https://colab.research.google.com/assets/colab-badge.svg\" alt=\"Open In Colab\"/></a>"
      ]
    },
    {
      "cell_type": "markdown",
      "source": [
        "# **Unit of Measurement Converter Projec**"
      ],
      "metadata": {
        "id": "VnqKB5DfL2lv"
      }
    },
    {
      "cell_type": "code",
      "execution_count": 7,
      "metadata": {
        "colab": {
          "base_uri": "https://localhost:8080/"
        },
        "id": "isM7UtyFKD0u",
        "outputId": "3165eb25-efce-421a-875f-89646ccabb32"
      },
      "outputs": [
        {
          "output_type": "stream",
          "name": "stdout",
          "text": [
            "Enter the starting unit of measurement (inches, feet, yards): yards\n",
            "Enter the unit you want to convert to (inches, feet, yards): feet\n",
            "Enter the starting measurement in inches you want to convert: 1\n",
            "Enter the starting measurement in inches you want to convert: 1\n",
            "Enter the starting measurement in inches you want to convert: 1\n",
            "3.0\n"
          ]
        }
      ],
      "source": [
        "convert_from = input(\"Enter the starting unit of measurement (inches, feet, yards): \")\n",
        "convert_to = input(\"Enter the unit you want to convert to (inches, feet, yards): \")\n",
        "number_of_inches = eval(input(\"Enter the starting measurement in inches you want to convert: \"))\n",
        "number_of_feet  = eval(input(\"Enter the starting measurement in inches you want to convert: \"))\n",
        "number_of_yards =  eval(input(\"Enter the starting measurement in inches you want to convert: \"))\n"
      ]
    },
    {
      "cell_type": "code",
      "source": [
        "convert_from = input(\"Enter the starting unit of measurement (inches, feet, yards): \")\n",
        "convert_to = input(\"Enter the unit you want to convert to (inches, feet, yards): \")\n",
        "if convert_from == 'inches':\n",
        "  if convert_to == 'feet':\n",
        "    feet = float(number_of_inches) / 12\n",
        "    print(feet)\n",
        "  elif convert_to == 'yards':\n",
        "    yards = float(number_of_inches) / 36\n",
        "    print(yards)\n",
        "  else:\n",
        "    print(\"Invalid input\")\n",
        "elif convert_from == 'feet':\n",
        "  if convert_to == 'inches':\n",
        "    inches = float(number_of_feet) * 12\n",
        "    print(inches)\n",
        "  elif convert_to == 'yards':\n",
        "    yards = float(number_of_feet) / 3\n",
        "    print(yards)\n",
        "  else:\n",
        "    print(\"Invalid input\")\n",
        "elif convert_from == 'yards':\n",
        "  if convert_to == 'inches':\n",
        "    inches = float(number_of_yards) * 36\n",
        "    print(inches)\n",
        "  elif convert_to == 'feet':\n",
        "    feet = float(number_of_yards) * 3\n",
        "    print(feet)\n",
        "  else:\n",
        "    print(\"Invalid input\")\n",
        "else:\n",
        "  print(\"Invalid input\")"
      ],
      "metadata": {
        "colab": {
          "base_uri": "https://localhost:8080/"
        },
        "id": "Ywfp9r51Nj1I",
        "outputId": "f289e59c-5637-4397-a191-09dd2c6be35c"
      },
      "execution_count": 8,
      "outputs": [
        {
          "output_type": "stream",
          "name": "stdout",
          "text": [
            "Enter the starting unit of measurement (inches, feet, yards): inches\n",
            "Enter the unit you want to convert to (inches, feet, yards): feet\n",
            "0.08333333333333333\n"
          ]
        }
      ]
    }
  ]
}